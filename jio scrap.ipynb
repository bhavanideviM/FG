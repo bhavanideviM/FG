{
 "cells": [
  {
   "cell_type": "code",
   "execution_count": 18,
   "id": "70f5b05a",
   "metadata": {},
   "outputs": [],
   "source": [
    "import selenium\n",
    "import time"
   ]
  },
  {
   "cell_type": "code",
   "execution_count": 19,
   "id": "d7019135",
   "metadata": {},
   "outputs": [],
   "source": [
    "from selenium import webdriver\n",
    "from selenium.webdriver.chrome.service import Service\n",
    "from selenium.webdriver.common.by import By\n",
    "#from webdriver_manager.chrome import ChromeDriverManager\n",
    "from time import sleep\n",
    "from bs4 import BeautifulSoup\n",
    "import pandas as pd"
   ]
  },
  {
   "cell_type": "code",
   "execution_count": 20,
   "id": "bf0898c8",
   "metadata": {},
   "outputs": [],
   "source": [
    "web = \"https://www.jiomart.com/\"\n",
    "path = '/Users/DEVI/Downloads/drivers/chromedriver.exe'\n",
    "s = Service(executable_path = path)\n",
    "d = webdriver.Chrome(service = s)\n",
    "d.get(web)\n",
    "d.maximize_window()"
   ]
  },
  {
   "cell_type": "code",
   "execution_count": 21,
   "id": "94000fc9",
   "metadata": {},
   "outputs": [
    {
     "name": "stdout",
     "output_type": "stream",
     "text": [
      "<bound method WebElement.click of <selenium.webdriver.remote.webelement.WebElement (session=\"0281de3c04694a4ae8458aab7bacdbf9\", element=\"f.4FF2CE8E0934E74D3DD595E77F7C0AD1.d.089A49F4831067C89EB9C17C401AA54A.e.52\")>>\n"
     ]
    }
   ],
   "source": [
    "e = d.find_element(by='xpath', value='//input[@id =\"autocomplete-0-input\"]')\n",
    "#user_input = input()\n",
    "user_input='fruits'\n",
    "e.send_keys('fruits')\n",
    "sleep(1)\n",
    "print(e.click)"
   ]
  },
  {
   "cell_type": "code",
   "execution_count": 22,
   "id": "51ded1ef",
   "metadata": {},
   "outputs": [
    {
     "name": "stdout",
     "output_type": "stream",
     "text": [
      "fruits\n",
      "fruits in fresh\n",
      "fruits and vegetables\n",
      "fruits in fresh all fruits\n",
      "fruit juice\n",
      "fruit basket\n",
      "fruit cake\n",
      "fruit jam\n",
      "fruit crush\n",
      "fruit and nut chocolate\n"
     ]
    }
   ],
   "source": [
    "empty_lst = []\n",
    "li = d.find_elements(by = 'xpath', value = '//div[@class=\"aa-PanelLayout aa-Panel--scrollable search-container\"]')\n",
    "for i in li:\n",
    "    print(i.text)\n",
    "    empty_lst.append(i.text.split(\"\\n\",))\n",
    "#print(empty_lst)\n",
    "    "
   ]
  },
  {
   "cell_type": "code",
   "execution_count": 23,
   "id": "e6436089",
   "metadata": {},
   "outputs": [
    {
     "name": "stdout",
     "output_type": "stream",
     "text": [
      "['fruits', 'fruits in fresh', 'fruits and vegetables', 'fruits in fresh all fruits', 'fruit juice', 'fruit basket', 'fruit cake', 'fruit jam', 'fruit crush', 'fruit and nut chocolate']\n"
     ]
    }
   ],
   "source": [
    "empty_lst = []\n",
    "li = d.find_elements(by = 'xpath', value = '//div[@class=\"aa-PanelLayout aa-Panel--scrollable search-container\"]')\n",
    "for i in li:\n",
    "    i=i.text\n",
    "    empty_lst.append(i)\n",
    "\n",
    "x = empty_lst[0].split(\"\\n\",)    \n",
    "print(x)"
   ]
  },
  {
   "cell_type": "code",
   "execution_count": 24,
   "id": "f5dddb1c",
   "metadata": {},
   "outputs": [],
   "source": [
    "for i in range(0,len(x)):\n",
    "    if user_input == x[i]:\n",
    "        cl = d.find_element(by = 'xpath', value = '/html/body/header/section[1]/div/section[2]/div[1]/div[2]/section[2]/div/div[1]/section/ul/li['+str(i+1)+']/div/a/span[2]')\n",
    "        target = d.find_element(by = 'xpath', value = '/html/body/header/section[1]/div/section[2]/div[1]/div[2]/section[2]/div/div[1]/section/ul/li['+str(i+1)+']/div/a')\n",
    "target.click()\n",
    "time.sleep(15)\n",
    "    \n",
    "    "
   ]
  },
  {
   "cell_type": "code",
   "execution_count": 25,
   "id": "55dc731a",
   "metadata": {},
   "outputs": [
    {
     "name": "stdout",
     "output_type": "stream",
     "text": [
      "12\n",
      "['Musk Melon 1 pc (Approx. 600 g - 900 g)']\n",
      "['₹39.00']\n",
      "['Musk Melon 1 pc (Approx. 600 g - 900 g)', 'Watermelon Kiran Big 1 pc (Approx. 2800 g - 4000 g)']\n",
      "['₹39.00', '₹59.00']\n",
      "['Musk Melon 1 pc (Approx. 600 g - 900 g)', 'Watermelon Kiran Big 1 pc (Approx. 2800 g - 4000 g)', 'Papaya (Each) (Approx. 800 g - 1600 g)']\n",
      "['₹39.00', '₹59.00', '₹59.00']\n",
      "['Musk Melon 1 pc (Approx. 600 g - 900 g)', 'Watermelon Kiran Big 1 pc (Approx. 2800 g - 4000 g)', 'Papaya (Each) (Approx. 800 g - 1600 g)', 'Grapes Super Sonaka 500g']\n",
      "['₹39.00', '₹59.00', '₹59.00', '₹42.00']\n",
      "['Musk Melon 1 pc (Approx. 600 g - 900 g)', 'Watermelon Kiran Big 1 pc (Approx. 2800 g - 4000 g)', 'Papaya (Each) (Approx. 800 g - 1600 g)', 'Grapes Super Sonaka 500g', 'Pineapple Queen 1 pc (Approx 700 g - 1200 g)']\n",
      "['₹39.00', '₹59.00', '₹59.00', '₹42.00', '₹65.00']\n",
      "['Musk Melon 1 pc (Approx. 600 g - 900 g)', 'Watermelon Kiran Big 1 pc (Approx. 2800 g - 4000 g)', 'Papaya (Each) (Approx. 800 g - 1600 g)', 'Grapes Super Sonaka 500g', 'Pineapple Queen 1 pc (Approx 700 g - 1200 g)', 'Mosambi 3 kg (Pack)']\n",
      "['₹39.00', '₹59.00', '₹59.00', '₹42.00', '₹65.00', '₹169.00']\n",
      "['Musk Melon 1 pc (Approx. 600 g - 900 g)', 'Watermelon Kiran Big 1 pc (Approx. 2800 g - 4000 g)', 'Papaya (Each) (Approx. 800 g - 1600 g)', 'Grapes Super Sonaka 500g', 'Pineapple Queen 1 pc (Approx 700 g - 1200 g)', 'Mosambi 3 kg (Pack)', 'Orange 6 pcs (Pack) (Approx 750 g - 900 g)']\n",
      "['₹39.00', '₹59.00', '₹59.00', '₹42.00', '₹65.00', '₹169.00', '₹50.00']\n",
      "['Musk Melon 1 pc (Approx. 600 g - 900 g)', 'Watermelon Kiran Big 1 pc (Approx. 2800 g - 4000 g)', 'Papaya (Each) (Approx. 800 g - 1600 g)', 'Grapes Super Sonaka 500g', 'Pineapple Queen 1 pc (Approx 700 g - 1200 g)', 'Mosambi 3 kg (Pack)', 'Orange 6 pcs (Pack) (Approx 750 g - 900 g)', 'Kiwi Imported 3 pcs (Pack)']\n",
      "['₹39.00', '₹59.00', '₹59.00', '₹42.00', '₹65.00', '₹169.00', '₹50.00', '₹105.00']\n",
      "['Musk Melon 1 pc (Approx. 600 g - 900 g)', 'Watermelon Kiran Big 1 pc (Approx. 2800 g - 4000 g)', 'Papaya (Each) (Approx. 800 g - 1600 g)', 'Grapes Super Sonaka 500g', 'Pineapple Queen 1 pc (Approx 700 g - 1200 g)', 'Mosambi 3 kg (Pack)', 'Orange 6 pcs (Pack) (Approx 750 g - 900 g)', 'Kiwi Imported 3 pcs (Pack)', 'Tender Coconut 3 pcs']\n",
      "['₹39.00', '₹59.00', '₹59.00', '₹42.00', '₹65.00', '₹169.00', '₹50.00', '₹105.00', '₹159.00']\n",
      "Targeted Tag has been Changed\n",
      "['Musk Melon 1 pc (Approx. 600 g - 900 g)', 'Watermelon Kiran Big 1 pc (Approx. 2800 g - 4000 g)', 'Papaya (Each) (Approx. 800 g - 1600 g)', 'Grapes Super Sonaka 500g', 'Pineapple Queen 1 pc (Approx 700 g - 1200 g)', 'Mosambi 3 kg (Pack)', 'Orange 6 pcs (Pack) (Approx 750 g - 900 g)', 'Kiwi Imported 3 pcs (Pack)', 'Tender Coconut 3 pcs', 'Tender Coconut Cling Wrapped (1 pc) (Approx 900 g - 1300 g)']\n",
      "['₹39.00', '₹59.00', '₹59.00', '₹42.00', '₹65.00', '₹169.00', '₹50.00', '₹105.00', '₹159.00', '₹54.00']\n",
      "Targeted Tag has been Changed\n",
      "['Musk Melon 1 pc (Approx. 600 g - 900 g)', 'Watermelon Kiran Big 1 pc (Approx. 2800 g - 4000 g)', 'Papaya (Each) (Approx. 800 g - 1600 g)', 'Grapes Super Sonaka 500g', 'Pineapple Queen 1 pc (Approx 700 g - 1200 g)', 'Mosambi 3 kg (Pack)', 'Orange 6 pcs (Pack) (Approx 750 g - 900 g)', 'Kiwi Imported 3 pcs (Pack)', 'Tender Coconut 3 pcs', 'Tender Coconut Cling Wrapped (1 pc) (Approx 900 g - 1300 g)', 'Banana Yellaki 12 pcs (Approx 750 g - 1000 g)']\n",
      "['₹39.00', '₹59.00', '₹59.00', '₹42.00', '₹65.00', '₹169.00', '₹50.00', '₹105.00', '₹159.00', '₹54.00', '₹98.00']\n",
      "['Musk Melon 1 pc (Approx. 600 g - 900 g)', 'Watermelon Kiran Big 1 pc (Approx. 2800 g - 4000 g)', 'Papaya (Each) (Approx. 800 g - 1600 g)', 'Grapes Super Sonaka 500g', 'Pineapple Queen 1 pc (Approx 700 g - 1200 g)', 'Mosambi 3 kg (Pack)', 'Orange 6 pcs (Pack) (Approx 750 g - 900 g)', 'Kiwi Imported 3 pcs (Pack)', 'Tender Coconut 3 pcs', 'Tender Coconut Cling Wrapped (1 pc) (Approx 900 g - 1300 g)', 'Banana Yellaki 12 pcs (Approx 750 g - 1000 g)', 'Dates Imported (Approx. 450 g - 550 g)']\n",
      "['₹39.00', '₹59.00', '₹59.00', '₹42.00', '₹65.00', '₹169.00', '₹50.00', '₹105.00', '₹159.00', '₹54.00', '₹98.00', '₹169.00']\n",
      "Targeted Tag has been Changed\n",
      "['Musk Melon has ribbed, netted, or smooth skin. Its outer skin is usually off-white or yellow in the shade while it is peach in colour from the inside and has many seeds in between. It has a sweet, musky taste and high sugar content that lingers on the tongue for a long time. Fully ripen Musk Melon offers a juicy, smooth, and sweet taste. It also has a high water content, which makes you feel full after having the fruit. So go ahead and buy Musk Melon 1 pc (Approx. 600 g - 900 g) today.', 'This summer, get creative with your Watermelon! While cutting the Watermelon into thick slices and serving it with salt is the standard way to eat Watermelon, but there are plenty of other options for getting creative with this sweet and hydrating fruit. Try a refreshing and unexpected pairing like Watermelon and salty feta cheese in a salad. Make some chilled soup using fresh Watermelon or pick up a frozen smoothie to keep you cool. So, go ahead, buy Watermelon Kiran Big 1 pc (Approx. 2800 g - 4000 g) online now!', 'Papaya is a fruit that has a vibrant colour, a cream-like texture, and a sweet and exquisite taste. They are also known as Papaws or Pawpaws. It has an exotic flavour that tastes like a cross between a mango and a cantaloupe with a mixture of citrus and butter. It is a versatile fruit that can be added to many recipes including side dishes, desserts, and cocktails. Enjoy it as a juice, as frozen fruit, or with toast for breakfast. Buy Papaya (Each) (Approx. 800 g - 1600 g) online now.', 'Grapes offer a wealth of health benefits due to their high nutrient and antioxidant contents. Grapes are delicious and easy to add to your diet for breakfast, lunch, dinner, or simply as a convenient, healthy snack. So what are you waiting for? Go ahead and buy this product online today!', 'Pineapples have a tough rind made up of hexagonal units and a fibrous, juicy flesh which may be yellow to white in color. Pineapple fruit is commonly eaten fresh or it may be cooked in a variety of dishes. Pineapple may also be canned or used to produce juice. Buy Pineapple Queen 1 pc (Approx 700 g - 1200 g) online now.', 'The Sweet Lime or Mosambi is a tropical citrus fruit native to India. Mosambi is a round citrus fruit with finely-textured skins that are yellowish-orange in colour, just like their pulp. It has a delightful fragrance and delicately sweet taste. Its bright green and smooth skin and knobbly shape are the most recognizable characteristics of this fruit. Mosambi can be used to add a sweet citrusy flavour to salads, soups, curries, seafood stews and more. Ideal for making drinks, cakes, puddings and desserts, cakes, jams and jellies, pies and ice creams. They can also be eaten as a snack-just peel and enjoy. So, go ahead, buy Mosambi 3 kg (Pack) online now!', 'Oranges are a favourite snack for many people. They can be eaten out-of-hand or used as a garnish. Besides orange juices, which are very popular worldwide, there are many other culinary uses of oranges. Oranges can be made into jams, marmalades, and preserves with the addition of sugar. They may also be used in salads, desserts, ice creams, sorbets, and savoury dishes. So, go ahead, buy Orange 6 pcs (Pack) (Approx 750 g - 900 g) online now!', \"Kiwis are an extremely versatile fruit. On their own they make an excellent addition to your breakfast, not to mention that they're very healthy for you! For a treat, top your kiwi with whipped cream and chopped nuts for a tasty dessert that's sure to please friends and family. Kiwi is also the perfect base for smoothies; just throw in some yogurt, fruit chunks, some honey, and some ice cubes for some delicious refreshment! So, go ahead, buy Kiwi Imported 3 pcs (Pack) online now!\", 'NULL', 'NULL', 'Yellaki Banana is a dwarf-sized aromatic and sweet variety of bananas most popular in South India. It has a thin skin, firm flesh, and the flavour of regular bananas but with a touch of natural sweetness. You can enjoy it raw in desserts or salads or use it to make a creamy, smooth paste that is wonderful when combined with a variety of different cuisines. So, go ahead, buy Banana Yellaki 12 pcs (Approx 750 g - 1000 g) online now!', 'NULL']\n"
     ]
    }
   ],
   "source": [
    "n1 = (d.find_elements(by = 'xpath', value='/html/body/main/section/div[1]/div/div[2]/div[3]/div/div/ol/li'))\n",
    "print(len(n1))                            #/html/body/main/section/div[1]/div/div[2]/div[3]/div/div/ol\n",
    "name1=[]\n",
    "pr1=[]\n",
    "dec=[]\n",
    "\n",
    "#/html/body/main/section/div[1]/div/div[2]/div[3]/div/div/ol/li[1]\n",
    "#/html/body/main/section/div[1]/div/div[2]/div[3]/div/div/ol\n",
    "#/html/body/main/section/div[1]/div/div[2]/div[3]/div/div/ol/li[1]\n",
    "\n",
    "for i in range(1,len(n1)+1):\n",
    "    sleep(1)\n",
    "    product1=(d.find_element(by = 'xpath', value='/html/body/main/section/div[1]/div/div[2]/div[3]/div/div/ol/li['+str(i)+']/a/div[2]/div[2]/div/div[1]').text)\n",
    "    \n",
    "    #des = d.find_element(by = 'xpath', value='/html/body/main/section/section[2]/div/div/div[2]/section[6]/div[2]/div')\n",
    "    #print(des.text)\n",
    "    \n",
    "   \n",
    "    \n",
    "    price1=(d.find_element(by = 'xpath', value='/html/body/main/section/div[1]/div/div[2]/div[3]/div/div/ol/li['+str(i)+']/a/div[2]/div[2]/div/div[2]/div/span').text)\n",
    "    #print(product1, price1)\n",
    "    name1.append(product1)\n",
    "    pr1.append(price1)\n",
    "    print(name1)\n",
    "    print(pr1)\n",
    "\n",
    "    \n",
    "    m=d.find_element(by = 'xpath', value='/html/body/main/section/div[1]/div/div[2]/div[3]/div/div/ol/li['+str(i)+']/a')\n",
    "    m.click()\n",
    "    \n",
    "    sleep(2)\n",
    "    flag=0\n",
    "    try:\n",
    "        \n",
    "        des = d.find_element(by = 'xpath', value='/html/body/main/section/section[2]/div/div/div[2]/section[6]/div[2]/div')\n",
    "        flag=1\n",
    "    except:\n",
    "        \n",
    "        try:\n",
    "            des = d.find_element(by = 'xpath', value='/html/body/main/section/section[2]/div/div/div[2]/section[7]/div[2]/div')\n",
    "            flag=1\n",
    "        except:\n",
    "            \n",
    "            print(\"Targeted Tag has been Changed\")\n",
    "            \n",
    "            #des = d.find_element(by = 'xpath', value='/html/body/main/section/section[2]/div/div/div[2]/section[6]/div[2]/p[1]')\n",
    "\n",
    "                                                       #/html/body/main/section/section[2]/div/div/div[2]/section[6]/div[2]/p[2]\n",
    "    \n",
    "    if flag==1:\n",
    "        dec.append(des.text) \n",
    "    else:\n",
    "        dec.append(\"NULL\") \n",
    "        \n",
    "    \n",
    "    d.get('https://www.jiomart.com/search/fruits/in/prod_mart_master_vertical')\n",
    "    sleep(2)\n",
    "    \n",
    "\n",
    "print(dec)\n",
    "\n",
    "    \n",
    "\n",
    "#/html/body/main/section/div[1]/div/div[2]/div[3]/div/div/ol/li[1]/a/div[2]/div[2]/div/div[1]\n",
    "#/html/body/main/section/div[1]/div/div[2]/div[3]/div/div/ol/li[1]/a/div[2]/div[2]/div/div[2]/div/span\n",
    "#/html/body/main/section/div[1]/div/div[2]/div[3]/div/div/ol/li[1]/a\n",
    "#/html/body/main/section/section[2]/div/div/div[2]/section[6]/div[2]/div"
   ]
  },
  {
   "cell_type": "code",
   "execution_count": 26,
   "id": "4898c428",
   "metadata": {},
   "outputs": [
    {
     "name": "stdout",
     "output_type": "stream",
     "text": [
      "['Musk Melon 1 pc (Approx. 600 g - 900 g)', 'Watermelon Kiran Big 1 pc (Approx. 2800 g - 4000 g)', 'Papaya (Each) (Approx. 800 g - 1600 g)', 'Grapes Super Sonaka 500g', 'Pineapple Queen 1 pc (Approx 700 g - 1200 g)', 'Mosambi 3 kg (Pack)', 'Orange 6 pcs (Pack) (Approx 750 g - 900 g)', 'Kiwi Imported 3 pcs (Pack)', 'Tender Coconut 3 pcs', 'Tender Coconut Cling Wrapped (1 pc) (Approx 900 g - 1300 g)', 'Banana Yellaki 12 pcs (Approx 750 g - 1000 g)', 'Dates Imported (Approx. 450 g - 550 g)'] 12\n",
      "['₹39.00', '₹59.00', '₹59.00', '₹42.00', '₹65.00', '₹169.00', '₹50.00', '₹105.00', '₹159.00', '₹54.00', '₹98.00', '₹169.00'] 12\n",
      "['Musk Melon has ribbed, netted, or smooth skin. Its outer skin is usually off-white or yellow in the shade while it is peach in colour from the inside and has many seeds in between. It has a sweet, musky taste and high sugar content that lingers on the tongue for a long time. Fully ripen Musk Melon offers a juicy, smooth, and sweet taste. It also has a high water content, which makes you feel full after having the fruit. So go ahead and buy Musk Melon 1 pc (Approx. 600 g - 900 g) today.', 'This summer, get creative with your Watermelon! While cutting the Watermelon into thick slices and serving it with salt is the standard way to eat Watermelon, but there are plenty of other options for getting creative with this sweet and hydrating fruit. Try a refreshing and unexpected pairing like Watermelon and salty feta cheese in a salad. Make some chilled soup using fresh Watermelon or pick up a frozen smoothie to keep you cool. So, go ahead, buy Watermelon Kiran Big 1 pc (Approx. 2800 g - 4000 g) online now!', 'Papaya is a fruit that has a vibrant colour, a cream-like texture, and a sweet and exquisite taste. They are also known as Papaws or Pawpaws. It has an exotic flavour that tastes like a cross between a mango and a cantaloupe with a mixture of citrus and butter. It is a versatile fruit that can be added to many recipes including side dishes, desserts, and cocktails. Enjoy it as a juice, as frozen fruit, or with toast for breakfast. Buy Papaya (Each) (Approx. 800 g - 1600 g) online now.', 'Grapes offer a wealth of health benefits due to their high nutrient and antioxidant contents. Grapes are delicious and easy to add to your diet for breakfast, lunch, dinner, or simply as a convenient, healthy snack. So what are you waiting for? Go ahead and buy this product online today!', 'Pineapples have a tough rind made up of hexagonal units and a fibrous, juicy flesh which may be yellow to white in color. Pineapple fruit is commonly eaten fresh or it may be cooked in a variety of dishes. Pineapple may also be canned or used to produce juice. Buy Pineapple Queen 1 pc (Approx 700 g - 1200 g) online now.', 'The Sweet Lime or Mosambi is a tropical citrus fruit native to India. Mosambi is a round citrus fruit with finely-textured skins that are yellowish-orange in colour, just like their pulp. It has a delightful fragrance and delicately sweet taste. Its bright green and smooth skin and knobbly shape are the most recognizable characteristics of this fruit. Mosambi can be used to add a sweet citrusy flavour to salads, soups, curries, seafood stews and more. Ideal for making drinks, cakes, puddings and desserts, cakes, jams and jellies, pies and ice creams. They can also be eaten as a snack-just peel and enjoy. So, go ahead, buy Mosambi 3 kg (Pack) online now!', 'Oranges are a favourite snack for many people. They can be eaten out-of-hand or used as a garnish. Besides orange juices, which are very popular worldwide, there are many other culinary uses of oranges. Oranges can be made into jams, marmalades, and preserves with the addition of sugar. They may also be used in salads, desserts, ice creams, sorbets, and savoury dishes. So, go ahead, buy Orange 6 pcs (Pack) (Approx 750 g - 900 g) online now!', \"Kiwis are an extremely versatile fruit. On their own they make an excellent addition to your breakfast, not to mention that they're very healthy for you! For a treat, top your kiwi with whipped cream and chopped nuts for a tasty dessert that's sure to please friends and family. Kiwi is also the perfect base for smoothies; just throw in some yogurt, fruit chunks, some honey, and some ice cubes for some delicious refreshment! So, go ahead, buy Kiwi Imported 3 pcs (Pack) online now!\", 'NULL', 'NULL', 'Yellaki Banana is a dwarf-sized aromatic and sweet variety of bananas most popular in South India. It has a thin skin, firm flesh, and the flavour of regular bananas but with a touch of natural sweetness. You can enjoy it raw in desserts or salads or use it to make a creamy, smooth paste that is wonderful when combined with a variety of different cuisines. So, go ahead, buy Banana Yellaki 12 pcs (Approx 750 g - 1000 g) online now!', 'NULL'] 12\n"
     ]
    }
   ],
   "source": [
    "print(name1, len(name1))\n",
    "print(pr1, len(pr1))\n",
    "\n",
    "print(dec, len(dec))\n"
   ]
  },
  {
   "cell_type": "code",
   "execution_count": 27,
   "id": "e97cd561",
   "metadata": {
    "scrolled": true
   },
   "outputs": [
    {
     "name": "stdout",
     "output_type": "stream",
     "text": [
      "                                                 name    price  \\\n",
      "0             Musk Melon 1 pc (Approx. 600 g - 900 g)   ₹39.00   \n",
      "1   Watermelon Kiran Big 1 pc (Approx. 2800 g - 40...   ₹59.00   \n",
      "2              Papaya (Each) (Approx. 800 g - 1600 g)   ₹59.00   \n",
      "3                            Grapes Super Sonaka 500g   ₹42.00   \n",
      "4        Pineapple Queen 1 pc (Approx 700 g - 1200 g)   ₹65.00   \n",
      "5                                 Mosambi 3 kg (Pack)  ₹169.00   \n",
      "6          Orange 6 pcs (Pack) (Approx 750 g - 900 g)   ₹50.00   \n",
      "7                          Kiwi Imported 3 pcs (Pack)  ₹105.00   \n",
      "8                                Tender Coconut 3 pcs  ₹159.00   \n",
      "9   Tender Coconut Cling Wrapped (1 pc) (Approx 90...   ₹54.00   \n",
      "10      Banana Yellaki 12 pcs (Approx 750 g - 1000 g)   ₹98.00   \n",
      "11             Dates Imported (Approx. 450 g - 550 g)  ₹169.00   \n",
      "\n",
      "                                          Description  \n",
      "0   Musk Melon has ribbed, netted, or smooth skin....  \n",
      "1   This summer, get creative with your Watermelon...  \n",
      "2   Papaya is a fruit that has a vibrant colour, a...  \n",
      "3   Grapes offer a wealth of health benefits due t...  \n",
      "4   Pineapples have a tough rind made up of hexago...  \n",
      "5   The Sweet Lime or Mosambi is a tropical citrus...  \n",
      "6   Oranges are a favourite snack for many people....  \n",
      "7   Kiwis are an extremely versatile fruit. On the...  \n",
      "8                                                NULL  \n",
      "9                                                NULL  \n",
      "10  Yellaki Banana is a dwarf-sized aromatic and s...  \n",
      "11                                               NULL  \n"
     ]
    }
   ],
   "source": [
    "df = pd.DataFrame({'name':name1 ,'price':pr1, 'Description':dec})\n",
    "df.to_csv('D:\\FG\\jio_data82.csv', index=False)\n",
    "print(df)"
   ]
  },
  {
   "cell_type": "code",
   "execution_count": 28,
   "id": "dee8547d",
   "metadata": {},
   "outputs": [],
   "source": [
    "df.index = df.index+1"
   ]
  },
  {
   "cell_type": "code",
   "execution_count": 29,
   "id": "dbed77d7",
   "metadata": {
    "scrolled": true
   },
   "outputs": [
    {
     "data": {
      "text/html": [
       "<div>\n",
       "<style scoped>\n",
       "    .dataframe tbody tr th:only-of-type {\n",
       "        vertical-align: middle;\n",
       "    }\n",
       "\n",
       "    .dataframe tbody tr th {\n",
       "        vertical-align: top;\n",
       "    }\n",
       "\n",
       "    .dataframe thead th {\n",
       "        text-align: right;\n",
       "    }\n",
       "</style>\n",
       "<table border=\"1\" class=\"dataframe\">\n",
       "  <thead>\n",
       "    <tr style=\"text-align: right;\">\n",
       "      <th></th>\n",
       "      <th>name</th>\n",
       "      <th>price</th>\n",
       "      <th>Description</th>\n",
       "    </tr>\n",
       "  </thead>\n",
       "  <tbody>\n",
       "    <tr>\n",
       "      <th>1</th>\n",
       "      <td>Musk Melon 1 pc (Approx. 600 g - 900 g)</td>\n",
       "      <td>₹39.00</td>\n",
       "      <td>Musk Melon has ribbed, netted, or smooth skin....</td>\n",
       "    </tr>\n",
       "    <tr>\n",
       "      <th>2</th>\n",
       "      <td>Watermelon Kiran Big 1 pc (Approx. 2800 g - 40...</td>\n",
       "      <td>₹59.00</td>\n",
       "      <td>This summer, get creative with your Watermelon...</td>\n",
       "    </tr>\n",
       "    <tr>\n",
       "      <th>3</th>\n",
       "      <td>Papaya (Each) (Approx. 800 g - 1600 g)</td>\n",
       "      <td>₹59.00</td>\n",
       "      <td>Papaya is a fruit that has a vibrant colour, a...</td>\n",
       "    </tr>\n",
       "    <tr>\n",
       "      <th>4</th>\n",
       "      <td>Grapes Super Sonaka 500g</td>\n",
       "      <td>₹42.00</td>\n",
       "      <td>Grapes offer a wealth of health benefits due t...</td>\n",
       "    </tr>\n",
       "    <tr>\n",
       "      <th>5</th>\n",
       "      <td>Pineapple Queen 1 pc (Approx 700 g - 1200 g)</td>\n",
       "      <td>₹65.00</td>\n",
       "      <td>Pineapples have a tough rind made up of hexago...</td>\n",
       "    </tr>\n",
       "    <tr>\n",
       "      <th>6</th>\n",
       "      <td>Mosambi 3 kg (Pack)</td>\n",
       "      <td>₹169.00</td>\n",
       "      <td>The Sweet Lime or Mosambi is a tropical citrus...</td>\n",
       "    </tr>\n",
       "    <tr>\n",
       "      <th>7</th>\n",
       "      <td>Orange 6 pcs (Pack) (Approx 750 g - 900 g)</td>\n",
       "      <td>₹50.00</td>\n",
       "      <td>Oranges are a favourite snack for many people....</td>\n",
       "    </tr>\n",
       "    <tr>\n",
       "      <th>8</th>\n",
       "      <td>Kiwi Imported 3 pcs (Pack)</td>\n",
       "      <td>₹105.00</td>\n",
       "      <td>Kiwis are an extremely versatile fruit. On the...</td>\n",
       "    </tr>\n",
       "    <tr>\n",
       "      <th>9</th>\n",
       "      <td>Tender Coconut 3 pcs</td>\n",
       "      <td>₹159.00</td>\n",
       "      <td>NULL</td>\n",
       "    </tr>\n",
       "    <tr>\n",
       "      <th>10</th>\n",
       "      <td>Tender Coconut Cling Wrapped (1 pc) (Approx 90...</td>\n",
       "      <td>₹54.00</td>\n",
       "      <td>NULL</td>\n",
       "    </tr>\n",
       "    <tr>\n",
       "      <th>11</th>\n",
       "      <td>Banana Yellaki 12 pcs (Approx 750 g - 1000 g)</td>\n",
       "      <td>₹98.00</td>\n",
       "      <td>Yellaki Banana is a dwarf-sized aromatic and s...</td>\n",
       "    </tr>\n",
       "    <tr>\n",
       "      <th>12</th>\n",
       "      <td>Dates Imported (Approx. 450 g - 550 g)</td>\n",
       "      <td>₹169.00</td>\n",
       "      <td>NULL</td>\n",
       "    </tr>\n",
       "  </tbody>\n",
       "</table>\n",
       "</div>"
      ],
      "text/plain": [
       "                                                 name    price  \\\n",
       "1             Musk Melon 1 pc (Approx. 600 g - 900 g)   ₹39.00   \n",
       "2   Watermelon Kiran Big 1 pc (Approx. 2800 g - 40...   ₹59.00   \n",
       "3              Papaya (Each) (Approx. 800 g - 1600 g)   ₹59.00   \n",
       "4                            Grapes Super Sonaka 500g   ₹42.00   \n",
       "5        Pineapple Queen 1 pc (Approx 700 g - 1200 g)   ₹65.00   \n",
       "6                                 Mosambi 3 kg (Pack)  ₹169.00   \n",
       "7          Orange 6 pcs (Pack) (Approx 750 g - 900 g)   ₹50.00   \n",
       "8                          Kiwi Imported 3 pcs (Pack)  ₹105.00   \n",
       "9                                Tender Coconut 3 pcs  ₹159.00   \n",
       "10  Tender Coconut Cling Wrapped (1 pc) (Approx 90...   ₹54.00   \n",
       "11      Banana Yellaki 12 pcs (Approx 750 g - 1000 g)   ₹98.00   \n",
       "12             Dates Imported (Approx. 450 g - 550 g)  ₹169.00   \n",
       "\n",
       "                                          Description  \n",
       "1   Musk Melon has ribbed, netted, or smooth skin....  \n",
       "2   This summer, get creative with your Watermelon...  \n",
       "3   Papaya is a fruit that has a vibrant colour, a...  \n",
       "4   Grapes offer a wealth of health benefits due t...  \n",
       "5   Pineapples have a tough rind made up of hexago...  \n",
       "6   The Sweet Lime or Mosambi is a tropical citrus...  \n",
       "7   Oranges are a favourite snack for many people....  \n",
       "8   Kiwis are an extremely versatile fruit. On the...  \n",
       "9                                                NULL  \n",
       "10                                               NULL  \n",
       "11  Yellaki Banana is a dwarf-sized aromatic and s...  \n",
       "12                                               NULL  "
      ]
     },
     "execution_count": 29,
     "metadata": {},
     "output_type": "execute_result"
    }
   ],
   "source": [
    "df"
   ]
  },
  {
   "cell_type": "code",
   "execution_count": null,
   "id": "f2af3d96",
   "metadata": {},
   "outputs": [],
   "source": []
  }
 ],
 "metadata": {
  "kernelspec": {
   "display_name": "Python 3 (ipykernel)",
   "language": "python",
   "name": "python3"
  },
  "language_info": {
   "codemirror_mode": {
    "name": "ipython",
    "version": 3
   },
   "file_extension": ".py",
   "mimetype": "text/x-python",
   "name": "python",
   "nbconvert_exporter": "python",
   "pygments_lexer": "ipython3",
   "version": "3.11.5"
  }
 },
 "nbformat": 4,
 "nbformat_minor": 5
}
